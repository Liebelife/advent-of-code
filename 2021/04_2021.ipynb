{
 "cells": [
  {
   "cell_type": "raw",
   "id": "81e71dd4-5706-48b1-a296-29b33e24cb01",
   "metadata": {},
   "source": [
    "You're already almost 1.5km (almost a mile) below the surface of the ocean, already so deep that you can't see any sunlight. What you can see, however, is a giant squid that has attached itself to the outside of your submarine.\n",
    "\n",
    "Maybe it wants to play bingo?\n",
    "\n",
    "Bingo is played on a set of boards each consisting of a 5x5 grid of numbers. Numbers are chosen at random, and the chosen number is marked on all boards on which it appears. (Numbers may not appear on all boards.) If all numbers in any row or any column of a board are marked, that board wins. (Diagonals don't count.)\n",
    "\n",
    "The submarine has a bingo subsystem to help passengers (currently, you and the giant squid) pass the time. It automatically generates a random order in which to draw numbers and a random set of boards (your puzzle input). For example:\n",
    "\n",
    "7,4,9,5,11,17,23,2,0,14,21,24,10,16,13,6,15,25,12,22,18,20,8,19,3,26,1\n",
    "\n",
    "22 13 17 11  0\n",
    " 8  2 23  4 24\n",
    "21  9 14 16  7\n",
    " 6 10  3 18  5\n",
    " 1 12 20 15 19\n",
    "\n",
    " 3 15  0  2 22\n",
    " 9 18 13 17  5\n",
    "19  8  7 25 23\n",
    "20 11 10 24  4\n",
    "14 21 16 12  6\n",
    "\n",
    "14 21 17 24  4\n",
    "10 16 15  9 19\n",
    "18  8 23 26 20\n",
    "22 11 13  6  5\n",
    " 2  0 12  3  7\n",
    "After the first five numbers are drawn (7, 4, 9, 5, and 11), there are no winners, but the boards are marked as follows (shown here adjacent to each other to save space):\n",
    "\n",
    "22 13 17 11  0         3 15  0  2 22        14 21 17 24  4\n",
    " 8  2 23  4 24         9 18 13 17  5        10 16 15  9 19\n",
    "21  9 14 16  7        19  8  7 25 23        18  8 23 26 20\n",
    " 6 10  3 18  5        20 11 10 24  4        22 11 13  6  5\n",
    " 1 12 20 15 19        14 21 16 12  6         2  0 12  3  7\n",
    "After the next six numbers are drawn (17, 23, 2, 0, 14, and 21), there are still no winners:\n",
    "\n",
    "22 13 17 11  0         3 15  0  2 22        14 21 17 24  4\n",
    " 8  2 23  4 24         9 18 13 17  5        10 16 15  9 19\n",
    "21  9 14 16  7        19  8  7 25 23        18  8 23 26 20\n",
    " 6 10  3 18  5        20 11 10 24  4        22 11 13  6  5\n",
    " 1 12 20 15 19        14 21 16 12  6         2  0 12  3  7\n",
    "Finally, 24 is drawn:\n",
    "\n",
    "22 13 17 11  0         3 15  0  2 22        14 21 17 24  4\n",
    " 8  2 23  4 24         9 18 13 17  5        10 16 15  9 19\n",
    "21  9 14 16  7        19  8  7 25 23        18  8 23 26 20\n",
    " 6 10  3 18  5        20 11 10 24  4        22 11 13  6  5\n",
    " 1 12 20 15 19        14 21 16 12  6         2  0 12  3  7\n",
    "At this point, the third board wins because it has at least one complete row or column of marked numbers (in this case, the entire top row is marked: 14 21 17 24 4).\n",
    "\n",
    "The score of the winning board can now be calculated. Start by finding the sum of all unmarked numbers on that board; in this case, the sum is 188. Then, multiply that sum by the number that was just called when the board won, 24, to get the final score, 188 * 24 = 4512.\n",
    "\n",
    "To guarantee victory against the giant squid, figure out which board will win first. What will your final score be if you choose that board?"
   ]
  },
  {
   "cell_type": "code",
   "execution_count": 350,
   "id": "83e82115-901a-43c8-813c-da2f0159f34a",
   "metadata": {},
   "outputs": [
    {
     "data": {
      "text/plain": [
       "['26,38,2,15,36,8,12,46,88,72,32,35,64,19,5,66,20,52,74,3,59,94,45,56,0,6,67,24,97,50,92,93,84,65,71,90,96,21,87,75,58,82,14,53,95,27,49,69,16,89,37,13,1,81,60,79,51,18,48,33,42,63,39,34,62,55,47,54,23,83,77,9,70,68,85,86,91,41,4,61,78,31,22,76,40,17,30,98,44,25,80,73,11,28,7,99,29,57,43,10',\n",
       " '',\n",
       " '57 12 60 96 93',\n",
       " '73 87 63 70 91',\n",
       " '74 32 43 67 46',\n",
       " '59 34  5 35 82',\n",
       " '53 40 55 29  1',\n",
       " '',\n",
       " '48 71 59 45 63',\n",
       " '13 42 23 95 39']"
      ]
     },
     "metadata": {},
     "output_type": "display_data"
    },
    {
     "data": {
      "text/plain": [
       "601"
      ]
     },
     "metadata": {},
     "output_type": "display_data"
    }
   ],
   "source": [
    "data = []\n",
    "with open(\"data/input_4.txt\", \"r\") as file:\n",
    "    for line in file:\n",
    "        line = line.strip()\n",
    "        data.append(line)\n",
    "display(data[:10], len(data))\n",
    "\n",
    "draws = data[0].split(\",\")\n",
    "draws = [int(i) for i in draws]\n",
    "setOfTables = data[1:]"
   ]
  },
  {
   "cell_type": "code",
   "execution_count": 342,
   "id": "4175e5ca-7065-4882-aa76-d89d0b5e0e90",
   "metadata": {},
   "outputs": [
    {
     "name": "stdout",
     "output_type": "stream",
     "text": [
      "The first table to win is \n",
      "\n",
      "[[-1 -1 -1 -1 -1]\n",
      " [27 29 22 -1 76]\n",
      " [58 54 80 -1 -1]\n",
      " [-1 24 83 -1 25]\n",
      " [21 31 48 39  4]]\n",
      "\n",
      "and the deciding number was 94\n",
      "\n",
      "Sum of the whole table including -1 is 611\n",
      "Sum of the whole table without crossed out numbers (-1): 621\n",
      "\n",
      "The final result is 58374\n"
     ]
    }
   ],
   "source": [
    "import numpy as np\n",
    "\n",
    "# save tables as matrices\n",
    "tables = []\n",
    "matrix = []\n",
    "for row in setOfTables:\n",
    "    if row == '':\n",
    "        if matrix != []: # except the first one\n",
    "            # write previous\n",
    "            matrix = np.matrix(matrix)\n",
    "            tables.append(matrix)\n",
    "            matrix = []\n",
    "    else:\n",
    "        matrix.append([int(i) for i in row.split()])\n",
    "\n",
    "tables_to_cross_out = tables\n",
    "first_table_data = []\n",
    "for numberDrawn in draws:\n",
    "    for table in tables_to_cross_out:\n",
    "        # if the number is in the table, replace the number with -1 (mark it as crossed out)\n",
    "        if numberDrawn in table:\n",
    "            table[table == numberDrawn] = -1\n",
    "            # check for BINGO (is there a column or a row which has all values equal to \"-1\"?)\n",
    "            if (table == -1).all(axis=0).any() or (table == -1).all(axis=1).any():\n",
    "                first_table_data.append([table, numberDrawn])\n",
    "    if first_table_data != []:\n",
    "        break\n",
    "firstTable, decidingNumber = first_table_data[0]\n",
    "\n",
    "print(f\"The first table to win is \\n\\n{firstTable}\\n\\nand the deciding number was {decidingNumber}\\n\")\n",
    "print(f\"Sum of the whole table including -1 is {firstTable.sum()}\")\n",
    "\n",
    "# Tofirst_table mask an array where the data is exactly equal to value, use the numpy.ma.masked_object() method in Python Numpy −\n",
    "masked_matrix = np.ma.masked_object(firstTable, -1)\n",
    "sum_of_remaining_numbers = np.ma.array(masked_matrix).sum()\n",
    "sum_of_remaining_numbers\n",
    "print(f\"Sum of the whole table without crossed out numbers (-1): {sum_of_remaining_numbers}\\n\")\n",
    "\n",
    "print(f\"The final result is {sum_of_remaining_numbers * decidingNumber}\")"
   ]
  },
  {
   "cell_type": "raw",
   "id": "6bc1a500-e1a2-49ae-b76c-79754428a731",
   "metadata": {},
   "source": [
    "--- Part Two ---\n",
    "On the other hand, it might be wise to try a different strategy: let the giant squid win.\n",
    "\n",
    "You aren't sure how many bingo boards a giant squid could play at once, so rather than waste time counting its arms, the safe thing to do is to figure out which board will win last and choose that one. That way, no matter which boards it picks, it will win for sure.\n",
    "\n",
    "In the above example, the second board is the last to win, which happens after 13 is eventually called and its middle column is completely marked. If you were to keep playing until this point, the second board would have a sum of unmarked numbers equal to 148 for a final score of 148 * 13 = 1924.\n",
    "\n",
    "Figure out which board will win last. Once it wins, what would its final score be?"
   ]
  },
  {
   "cell_type": "code",
   "execution_count": 453,
   "id": "dc4b8b3f-360a-44e8-b108-6a44449b5c80",
   "metadata": {},
   "outputs": [],
   "source": [
    "import numpy as np\n",
    "\n",
    "# save tables as matrices\n",
    "tables = []\n",
    "matrix = []\n",
    "for row in setOfTables:\n",
    "    if row == '':\n",
    "        if matrix != []: # except the first one\n",
    "            # write previous\n",
    "            matrix = np.matrix(matrix)\n",
    "            tables.append(matrix)\n",
    "            matrix = []\n",
    "    else:\n",
    "        matrix.append([int(i) for i in row.split()])\n",
    "\n",
    "# tables_to_cross_out = tables\n",
    "# last_table_data = []\n",
    "\n",
    "def findLast(draws, tables):\n",
    "    crossedOutTables = []\n",
    "    for numberDrawn in draws:\n",
    "        for table in tables:\n",
    "            if (table == -1).all(axis=0).any() or (table == -1).all(axis=1).any():\n",
    "                continue\n",
    "            else:\n",
    "                # if the number is in the table, replace the number with -1 (mark it as crossed out)\n",
    "                if numberDrawn in table:\n",
    "                    table[table == numberDrawn] = -1\n",
    "                    # check for BINGO (is there a column or a row which has all values equal to \"-1\"?)\n",
    "                    if (table == -1).all(axis=0).any() or (table == -1).all(axis=1).any():\n",
    "                        crossedOutTables.append([table, numberDrawn])\n",
    "                        # if len(crossedOutTables)+1 == len(tables):\n",
    "    return crossedOutTables\n",
    "\n",
    "# firstTable, decidingNumber = first_table_data[0]\n",
    "\n",
    "# print(f\"The first table to win is \\n\\n{firstTable}\\n\\nand the deciding number was {decidingNumber}\\n\")\n",
    "# print(f\"Sum of the whole table including -1 is {firstTable.sum()}\")\n",
    "\n",
    "# # Tofirst_table mask an array where the data is exactly equal to value, use the numpy.ma.masked_object() method in Python Numpy −\n",
    "# masked_matrix = np.ma.masked_object(firstTable, -1)\n",
    "# sum_of_remaining_numbers = np.ma.array(masked_matrix).sum()\n",
    "# sum_of_remaining_numbers\n",
    "# print(f\"Sum of the whole table without crossed out numbers (-1): {sum_of_remaining_numbers}\\n\")\n",
    "\n",
    "# print(f\"The final result is {sum_of_remaining_numbers * decidingNumber}\")"
   ]
  },
  {
   "cell_type": "code",
   "execution_count": 454,
   "id": "2a6ddf8c-bbc8-49d5-a2d8-a4450bd5fa9f",
   "metadata": {},
   "outputs": [],
   "source": [
    "crossedOutTables = findLast(draws, tables)"
   ]
  },
  {
   "cell_type": "code",
   "execution_count": 455,
   "id": "eb9bee7b-ed99-4b71-874d-e34717dd8124",
   "metadata": {},
   "outputs": [
    {
     "data": {
      "text/plain": [
       "(99, 99)"
      ]
     },
     "execution_count": 455,
     "metadata": {},
     "output_type": "execute_result"
    }
   ],
   "source": [
    "len(crossedOutTables), len(tables)"
   ]
  },
  {
   "cell_type": "code",
   "execution_count": 460,
   "id": "5381ef3a-0753-4108-8b0e-cb70eab53fe3",
   "metadata": {},
   "outputs": [
    {
     "data": {
      "text/plain": [
       "(matrix([[-1, 99, -1, -1, -1],\n",
       "         [-1, 30, 10, -1, -1],\n",
       "         [98, -1, -1, -1, 25],\n",
       "         [76, -1, 29, -1, -1],\n",
       "         [-1, -1, -1, -1, -1]]),\n",
       " 31)"
      ]
     },
     "execution_count": 460,
     "metadata": {},
     "output_type": "execute_result"
    }
   ],
   "source": [
    "lastToWinTable, decidingNumber = crossedOutTables[-1]\n",
    "lastToWinTable, decidingNumber"
   ]
  },
  {
   "cell_type": "code",
   "execution_count": 461,
   "id": "64f94926-84a6-4801-91b3-e742077035a4",
   "metadata": {},
   "outputs": [
    {
     "name": "stdout",
     "output_type": "stream",
     "text": [
      "Sum of the whole table without crossed out numbers (-1): 367\n",
      "\n",
      "The final result is 11377\n"
     ]
    }
   ],
   "source": [
    " # To first_table mask an array where the data is exactly equal to value, use the numpy.ma.masked_object() method in Python Numpy −\n",
    "masked_matrix = np.ma.masked_object(lastToWinTable, -1)\n",
    "sum_of_remaining_numbers = np.ma.array(masked_matrix).sum()\n",
    "sum_of_remaining_numbers\n",
    "print(f\"Sum of the whole table without crossed out numbers (-1): {sum_of_remaining_numbers}\\n\")\n",
    "\n",
    "print(f\"The final result is {sum_of_remaining_numbers * decidingNumber}\")"
   ]
  },
  {
   "cell_type": "code",
   "execution_count": null,
   "id": "bfb9451a-42ff-43d0-820e-ccb2359fba4f",
   "metadata": {},
   "outputs": [],
   "source": []
  }
 ],
 "metadata": {
  "kernelspec": {
   "display_name": "Python 3 (ipykernel)",
   "language": "python",
   "name": "python3"
  },
  "language_info": {
   "codemirror_mode": {
    "name": "ipython",
    "version": 3
   },
   "file_extension": ".py",
   "mimetype": "text/x-python",
   "name": "python",
   "nbconvert_exporter": "python",
   "pygments_lexer": "ipython3",
   "version": "3.9.12"
  }
 },
 "nbformat": 4,
 "nbformat_minor": 5
}
