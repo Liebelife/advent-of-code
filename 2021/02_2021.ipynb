{
 "cells": [
  {
   "cell_type": "markdown",
   "id": "c894627c-0814-4d1d-a4e1-0e2fdf8d8ed5",
   "metadata": {},
   "source": [
    "# task 1"
   ]
  },
  {
   "cell_type": "markdown",
   "id": "4844310f-eee7-480b-80ab-5de7b82e2bad",
   "metadata": {},
   "source": [
    "``` \n",
    "Now, you need to figure out how to pilot this thing.\n",
    "\n",
    "It seems like the submarine can take a series of commands like forward 1, down 2, or up 3:\n",
    "\n",
    "forward X increases the horizontal position by X units.\n",
    "down X increases the depth by X units.\n",
    "up X decreases the depth by X units.\n",
    "Note that since you're on a submarine, down and up affect your depth, and so they have the opposite result of what you might expect.\n",
    "\n",
    "The submarine seems to already have a planned course (your puzzle input). You should probably figure out where it's going. For example:\n",
    "\n",
    "forward 5\n",
    "down 5\n",
    "forward 8\n",
    "up 3\n",
    "down 8\n",
    "forward 2\n",
    "Your horizontal position and depth both start at 0. The steps above would then modify them as follows:\n",
    "\n",
    "forward 5 adds 5 to your horizontal position, a total of 5.\n",
    "down 5 adds 5 to your depth, resulting in a value of 5.\n",
    "forward 8 adds 8 to your horizontal position, a total of 13.\n",
    "up 3 decreases your depth by 3, resulting in a value of 2.\n",
    "down 8 adds 8 to your depth, resulting in a value of 10.\n",
    "forward 2 adds 2 to your horizontal position, a total of 15.\n",
    "After following these instructions, you would have a horizontal position of 15 and a depth of 10. (Multiplying these together produces 150.)\n",
    "\n",
    "Calculate the horizontal position and depth you would have after following the planned course. What do you get if you multiply your final horizontal position by your final depth?\n",
    "``` \n"
   ]
  },
  {
   "cell_type": "code",
   "execution_count": 1,
   "id": "e059e377-f613-45cc-b77b-f29bfbe226af",
   "metadata": {},
   "outputs": [
    {
     "data": {
      "text/plain": [
       "['forward 4',\n",
       " 'down 7',\n",
       " 'down 4',\n",
       " 'forward 2',\n",
       " 'down 4',\n",
       " 'down 9',\n",
       " 'down 1',\n",
       " 'forward 1',\n",
       " 'down 4',\n",
       " 'up 5']"
      ]
     },
     "execution_count": 1,
     "metadata": {},
     "output_type": "execute_result"
    }
   ],
   "source": [
    "data = []\n",
    "with open(\"data/input_2.txt\", \"r\") as file:\n",
    "    for line in file:\n",
    "        line = line.strip()\n",
    "        data.append(line)\n",
    "data[:10]"
   ]
  },
  {
   "cell_type": "code",
   "execution_count": 20,
   "id": "058e3c10-17f4-41f9-941a-e48bf9f38dab",
   "metadata": {},
   "outputs": [
    {
     "name": "stdout",
     "output_type": "stream",
     "text": [
      "final position is 1909 m and final depth is 655 m\n",
      "the result is 1250395 m^2\n"
     ]
    }
   ],
   "source": [
    "# starting position of a submarine\n",
    "horizontal_position = 0 \n",
    "vertical_position = 0\n",
    "\n",
    "for instruction in data:\n",
    "    direction, number = instruction.split()\n",
    "    number = int(number)\n",
    "\n",
    "    if direction == \"forward\":\n",
    "        horizontal_position += number\n",
    "    elif direction == \"down\":\n",
    "        vertical_position += number\n",
    "    elif direction == \"up\":\n",
    "        vertical_position -= number    \n",
    "        \n",
    "print(f\"final position is {horizontal_position} m and final depth is {vertical_position} m\")\n",
    "print(f\"the result is {horizontal_position * vertical_position} m^2\")"
   ]
  },
  {
   "cell_type": "markdown",
   "id": "b51f1826-8d45-4cea-ae23-932601fa19cd",
   "metadata": {},
   "source": [
    "# task 2"
   ]
  },
  {
   "cell_type": "markdown",
   "id": "5690d434-7230-48fe-842c-e9c85d1a3035",
   "metadata": {},
   "source": [
    "``` \n",
    "Based on your calculations, the planned course doesn't seem to make any sense. You find the submarine manual and discover that the process is actually slightly more complicated.\n",
    "\n",
    "In addition to horizontal position and depth, you'll also need to track a third value, aim, which also starts at 0. The commands also mean something entirely different than you first thought:\n",
    "\n",
    "down X increases your aim by X units.\n",
    "up X decreases your aim by X units.\n",
    "forward X does two things:\n",
    "It increases your horizontal position by X units.\n",
    "It increases your depth by your aim multiplied by X.\n",
    "Again note that since you're on a submarine, down and up do the opposite of what you might expect: \"down\" means aiming in the positive direction.\n",
    "\n",
    "Now, the above example does something different:\n",
    "\n",
    "forward 5 adds 5 to your horizontal position, a total of 5. Because your aim is 0, your depth does not change.\n",
    "down 5 adds 5 to your aim, resulting in a value of 5.\n",
    "forward 8 adds 8 to your horizontal position, a total of 13. Because your aim is 5, your depth increases by 8*5=40.\n",
    "up 3 decreases your aim by 3, resulting in a value of 2.\n",
    "down 8 adds 8 to your aim, resulting in a value of 10.\n",
    "forward 2 adds 2 to your horizontal position, a total of 15. Because your aim is 10, your depth increases by 2*10=20 to a total of 60.\n",
    "After following these new instructions, you would have a horizontal position of 15 and a depth of 60. (Multiplying these produces 900.)\n",
    "\n",
    "Using this new interpretation of the commands, calculate the horizontal position and depth you would have after following the planned course. What do you get if you multiply your final horizontal position by your final depth?\n",
    "``` \n"
   ]
  },
  {
   "cell_type": "code",
   "execution_count": 24,
   "id": "4dace424-5947-4451-9397-2a08a6b0e16f",
   "metadata": {},
   "outputs": [
    {
     "name": "stdout",
     "output_type": "stream",
     "text": [
      "final position is 1909 m and final depth is 760194 m\n",
      "the result is 1451210346 m^2\n"
     ]
    }
   ],
   "source": [
    "# starting position of a submarine\n",
    "horizontal_position = 0 \n",
    "vertical_position = 0\n",
    "aim = 0\n",
    "\n",
    "for instruction in data:\n",
    "    direction, number = instruction.split()\n",
    "    number = int(number)\n",
    "\n",
    "    if direction == \"forward\":\n",
    "        horizontal_position += number\n",
    "        vertical_position += aim * number\n",
    "    elif direction == \"down\":\n",
    "        aim += number\n",
    "    elif direction == \"up\":\n",
    "        aim -= number    \n",
    "        \n",
    "print(f\"final position is {horizontal_position} m and final depth is {vertical_position} m\")\n",
    "print(f\"the result is {horizontal_position * vertical_position} m^2\")"
   ]
  },
  {
   "cell_type": "code",
   "execution_count": null,
   "id": "b973d93e-9df4-4cba-9a48-6ae2790e127f",
   "metadata": {},
   "outputs": [],
   "source": []
  }
 ],
 "metadata": {
  "kernelspec": {
   "display_name": "Python 3 (ipykernel)",
   "language": "python",
   "name": "python3"
  },
  "language_info": {
   "codemirror_mode": {
    "name": "ipython",
    "version": 3
   },
   "file_extension": ".py",
   "mimetype": "text/x-python",
   "name": "python",
   "nbconvert_exporter": "python",
   "pygments_lexer": "ipython3",
   "version": "3.9.12"
  }
 },
 "nbformat": 4,
 "nbformat_minor": 5
}
