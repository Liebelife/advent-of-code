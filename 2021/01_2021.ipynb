{
 "cells": [
  {
   "cell_type": "markdown",
   "id": "daacff3f-e710-4e72-8e7c-bfaf6559bb89",
   "metadata": {},
   "source": [
    "# Day 1"
   ]
  },
  {
   "cell_type": "markdown",
   "id": "11a80324-03fb-4c24-b6c4-981c199f1b2a",
   "metadata": {
    "tags": []
   },
   "source": [
    "## Part one "
   ]
  },
  {
   "cell_type": "markdown",
   "id": "778b27cc-3de9-4ba1-bad4-9fcb9fd4921e",
   "metadata": {},
   "source": [
    "```\n",
    "To do this, count the number of times a depth measurement increases from the previous measurement. (There is no measurement before the first measurement.) In the example above, the changes are as follows:\n",
    "\n",
    "199 (N/A - no previous measurement)\n",
    "200 (increased)\n",
    "208 (increased)\n",
    "210 (increased)\n",
    "200 (decreased)\n",
    "207 (increased)\n",
    "240 (increased)\n",
    "269 (increased)\n",
    "260 (decreased)\n",
    "263 (increased)\n",
    "In this example, there are 7 measurements that are larger than the previous measurement.\n",
    "\n",
    "How many measurements are larger than the previous measurement?\n",
    "```"
   ]
  },
  {
   "cell_type": "code",
   "execution_count": 1,
   "id": "48eee644-910d-48e6-82dc-82d131f28511",
   "metadata": {},
   "outputs": [
    {
     "name": "stdout",
     "output_type": "stream",
     "text": [
      "number of records: 2000\n"
     ]
    },
    {
     "data": {
      "text/html": [
       "<div>\n",
       "<style scoped>\n",
       "    .dataframe tbody tr th:only-of-type {\n",
       "        vertical-align: middle;\n",
       "    }\n",
       "\n",
       "    .dataframe tbody tr th {\n",
       "        vertical-align: top;\n",
       "    }\n",
       "\n",
       "    .dataframe thead th {\n",
       "        text-align: right;\n",
       "    }\n",
       "</style>\n",
       "<table border=\"1\" class=\"dataframe\">\n",
       "  <thead>\n",
       "    <tr style=\"text-align: right;\">\n",
       "      <th></th>\n",
       "      <th>depth</th>\n",
       "      <th>info</th>\n",
       "    </tr>\n",
       "  </thead>\n",
       "  <tbody>\n",
       "    <tr>\n",
       "      <th>0</th>\n",
       "      <td>141</td>\n",
       "      <td>no previous measurement</td>\n",
       "    </tr>\n",
       "    <tr>\n",
       "      <th>1</th>\n",
       "      <td>140</td>\n",
       "      <td>decreased</td>\n",
       "    </tr>\n",
       "    <tr>\n",
       "      <th>2</th>\n",
       "      <td>160</td>\n",
       "      <td>increased</td>\n",
       "    </tr>\n",
       "    <tr>\n",
       "      <th>3</th>\n",
       "      <td>161</td>\n",
       "      <td>increased</td>\n",
       "    </tr>\n",
       "    <tr>\n",
       "      <th>4</th>\n",
       "      <td>162</td>\n",
       "      <td>increased</td>\n",
       "    </tr>\n",
       "  </tbody>\n",
       "</table>\n",
       "</div>"
      ],
      "text/plain": [
       "   depth                     info\n",
       "0    141  no previous measurement\n",
       "1    140                decreased\n",
       "2    160                increased\n",
       "3    161                increased\n",
       "4    162                increased"
      ]
     },
     "metadata": {},
     "output_type": "display_data"
    },
    {
     "name": "stdout",
     "output_type": "stream",
     "text": [
      "the depth measurement increased 1692 times\n"
     ]
    }
   ],
   "source": [
    "import pandas as pd\n",
    "data = []\n",
    "with open(\"data/input_1.txt\", \"r\") as file:\n",
    "    for line in file:\n",
    "        line = int(line.strip())\n",
    "        data.append(line)\n",
    "print(\"number of records:\", len(data))\n",
    "\n",
    "def DetectIncrease(index, previousNumber, actualNumber):\n",
    "    if index == 0:\n",
    "        return \"no previous measurement\"\n",
    "    else:\n",
    "        if actualNumber > previousNumber:\n",
    "            return \"increased\"\n",
    "        else:\n",
    "            return \"decreased\"\n",
    "        \n",
    "dataResults = []\n",
    "previousNumber = 0\n",
    "for index, actualNumber in enumerate(data):\n",
    "    message = DetectIncrease(index, previousNumber, actualNumber)\n",
    "    previousNumber = actualNumber\n",
    "    dataResults.append([actualNumber, message])\n",
    "    \n",
    "resultDF= pd.DataFrame(dataResults)\n",
    "resultDF.columns=[\"depth\",\"info\"]\n",
    "display(resultDF.head())\n",
    "\n",
    "increased = resultDF[resultDF[\"info\"] == \"increased\"]\n",
    "print(f\"the depth measurement increased {len(increased)} times\")"
   ]
  },
  {
   "cell_type": "markdown",
   "id": "502f61c9-07f6-4a1e-912f-605728de9229",
   "metadata": {},
   "source": [
    "## Part two"
   ]
  },
  {
   "cell_type": "markdown",
   "id": "c133c58c-421e-4293-89e8-735553ac7b02",
   "metadata": {},
   "source": [
    "```\n",
    "\n",
    "Considering every single measurement isn't as useful as you expected: there's just too much noise in the data.\n",
    "\n",
    "Instead, consider sums of a three-measurement sliding window. Again considering the above example:\n",
    "\n",
    "199  A      \n",
    "200  A B    \n",
    "208  A B C  \n",
    "210    B C D\n",
    "200  E   C D\n",
    "207  E F   D\n",
    "240  E F G  \n",
    "269    F G H\n",
    "260      G H\n",
    "263        H\n",
    "Start by comparing the first and second three-measurement windows. The measurements in the first window are marked A (199, 200, 208); their sum is 199 + 200 + 208 = 607. The second window is marked B (200, 208, 210); its sum is 618. The sum of measurements in the second window is larger than the sum of the first, so this first comparison increased.\n",
    "\n",
    "Your goal now is to count the number of times the sum of measurements in this sliding window increases from the previous sum. So, compare A with B, then compare B with C, then C with D, and so on. Stop when there aren't enough measurements left to create a new three-measurement sum.\n",
    "\n",
    "In the above example, the sum of each three-measurement window is as follows:\n",
    "\n",
    "A: 607 (N/A - no previous sum)\n",
    "B: 618 (increased)\n",
    "C: 618 (no change)\n",
    "D: 617 (decreased)\n",
    "E: 647 (increased)\n",
    "F: 716 (increased)\n",
    "G: 769 (increased)\n",
    "H: 792 (increased)\n",
    "In this example, there are 5 sums that are larger than the previous sum.\n",
    "\n",
    "Consider sums of a three-measurement sliding window. How many sums are larger than the previous sum?\n",
    "\n",
    "```"
   ]
  },
  {
   "cell_type": "code",
   "execution_count": 2,
   "id": "4fbf0b0b-cdd7-47a7-8ad6-1889bb668fb8",
   "metadata": {},
   "outputs": [
    {
     "data": {
      "text/plain": [
       "[141,\n",
       " 140,\n",
       " 160,\n",
       " 161,\n",
       " 162,\n",
       " 172,\n",
       " 178,\n",
       " 185,\n",
       " 184,\n",
       " 186,\n",
       " 187,\n",
       " 195,\n",
       " 216,\n",
       " 239,\n",
       " 243,\n",
       " 247,\n",
       " 248,\n",
       " 243,\n",
       " 224,\n",
       " 230]"
      ]
     },
     "execution_count": 2,
     "metadata": {},
     "output_type": "execute_result"
    }
   ],
   "source": [
    "data[:20]"
   ]
  },
  {
   "cell_type": "code",
   "execution_count": 5,
   "id": "2f5f73a6-f80e-4131-a4d2-060b65e6200f",
   "metadata": {},
   "outputs": [
    {
     "name": "stdout",
     "output_type": "stream",
     "text": [
      "the number of increased sums is 1724\n"
     ]
    }
   ],
   "source": [
    "soucty = []\n",
    "a, b, c = None, None, None\n",
    "predchozi_soucet = None\n",
    "for i in data: # zastavi se samo u posledni trojice a nepokracuje na dvojice a jednicku na konci\n",
    "    c = b\n",
    "    b = a\n",
    "    a = i\n",
    "    if c == None:\n",
    "        pass\n",
    "    else:\n",
    "        aktualni_soucet = a+b+c\n",
    "        \n",
    "        if predchozi_soucet == None:\n",
    "            text = \"no previous sum\"\n",
    "        elif predchozi_soucet > aktualni_soucet:\n",
    "            text = \"decreased\"\n",
    "        elif predchozi_soucet == aktualni_soucet:\n",
    "            text = \"no change\"\n",
    "        else:\n",
    "            text = \"increased\"\n",
    "        # save for next iteration\n",
    "        predchozi_soucet = aktualni_soucet\n",
    "        # soucty.append([(a,b,c),soucet])\n",
    "        soucty.append([aktualni_soucet, text])\n",
    "        \n",
    "df = pd.DataFrame(soucty)\n",
    "df.columns = [\"sum\",  \"info\"]\n",
    "number_of_increased = len(df[df[\"info\"] == \"increased\"])\n",
    "print(f\"the number of increased sums is {number_of_increased}\")"
   ]
  }
 ],
 "metadata": {
  "kernelspec": {
   "display_name": "Python 3 (ipykernel)",
   "language": "python",
   "name": "python3"
  },
  "language_info": {
   "codemirror_mode": {
    "name": "ipython",
    "version": 3
   },
   "file_extension": ".py",
   "mimetype": "text/x-python",
   "name": "python",
   "nbconvert_exporter": "python",
   "pygments_lexer": "ipython3",
   "version": "3.9.12"
  }
 },
 "nbformat": 4,
 "nbformat_minor": 5
}
